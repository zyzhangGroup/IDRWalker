{
 "cells": [
  {
   "cell_type": "markdown",
   "id": "49d89b1e",
   "metadata": {},
   "source": [
    "# Generating intrinsically disordered regions in ATG31 using IDRWalker\n",
    "\n",
    "In this example, I will use IDRWalker for the ATG31 and show what IDRWalker can do."
   ]
  },
  {
   "cell_type": "markdown",
   "id": "78c09f21",
   "metadata": {},
   "source": [
    "## Preparing Input Files\n",
    "\n",
    "ATG31 is a small molecular weight protein containing intrinsically disordered regions. By removing the less plausible parts of the [Alphafold2 predicted structure](https://alphafold.ebi.ac.uk/entry/Q12421), the structure of ATG31 without the disorder region `atg31_noIDRs.pdb` can be obtained. (This operation is not a routine practice, but only to facilitate the demonstration of the function)  \n",
    "In addition to the structure file for the missing disordered zone, the sequence file `atg31.fasta` is also a necessary input file. Since IDRWalker does not have sequence alignment function, the residue number in the structure file needs to correspond to the position of the residue in the sequence file, otherwise an error will occur."
   ]
  },
  {
   "cell_type": "markdown",
   "id": "a8424c0d",
   "metadata": {},
   "source": [
    "## Loading Input Files\n",
    "\n",
    "After preparing the input file, It can be loaded into IDRWalker using the following code:"
   ]
  },
  {
   "cell_type": "code",
   "execution_count": 1,
   "id": "1066097a",
   "metadata": {},
   "outputs": [],
   "source": [
    "from IDRWalker import *"
   ]
  },
  {
   "cell_type": "code",
   "execution_count": 2,
   "id": "89d7e1be",
   "metadata": {},
   "outputs": [],
   "source": [
    "chain = Chain('atg31.fasta', 'atg31_noIDRs.pdb', chainID='A')"
   ]
  },
  {
   "cell_type": "markdown",
   "id": "03fc6b2d",
   "metadata": {},
   "source": [
    "This code creates a chain of length equal to the input sequence, setting the known coordinates according to the structure file while recording the unknown regions. The `chainID` in the parameter will only be used for file writes in the current version."
   ]
  },
  {
   "cell_type": "markdown",
   "id": "84f0de9d",
   "metadata": {},
   "source": [
    "Before proceeding to the next step, you can check for errors by looking at the residue numbers of the missing regions:"
   ]
  },
  {
   "cell_type": "code",
   "execution_count": 3,
   "id": "3644d58f",
   "metadata": {},
   "outputs": [
    {
     "data": {
      "text/plain": [
       "[N-terminal at Residue 1,\n",
       " Gap between Residue 23 and 44,\n",
       " Gap between Residue 61 and 68,\n",
       " Gap between Residue 73 and 76,\n",
       " Gap between Residue 78 and 80,\n",
       " Gap between Residue 116 and 151,\n",
       " C-terminal at Residue 196]"
      ]
     },
     "execution_count": 3,
     "metadata": {},
     "output_type": "execute_result"
    }
   ],
   "source": [
    "chain.gap_list"
   ]
  },
  {
   "cell_type": "markdown",
   "id": "6c71949b",
   "metadata": {},
   "source": [
    "## Running IDRWalker\n",
    "\n",
    "The generation of the disordered regions is performed in `Box` which can be created using the following code:"
   ]
  },
  {
   "cell_type": "code",
   "execution_count": 4,
   "id": "5f9a3de8",
   "metadata": {},
   "outputs": [],
   "source": [
    "box = Box(np.array((100.0, 100.0, 100.0)), 2.0)"
   ]
  },
  {
   "cell_type": "markdown",
   "id": "78b480ce",
   "metadata": {},
   "source": [
    "The first parameter is the size of the box. IDRWalker divides the box into small grids, the size of which is specified by the second parameter. Spatial conflicts can be reduced by prohibiting different atoms from appearing in the same grid.  \n",
    "The box has a periodic boundary condition, so there is no need to move the input structure inside the box or worry about the generated disordered region appearing outside the box causing errors."
   ]
  },
  {
   "cell_type": "markdown",
   "id": "31944b22",
   "metadata": {},
   "source": [
    "Put the chain to be completed into the box and run the program:"
   ]
  },
  {
   "cell_type": "code",
   "execution_count": 5,
   "id": "81fd413d",
   "metadata": {},
   "outputs": [
    {
     "name": "stderr",
     "output_type": "stream",
     "text": [
      "Processing: 100%|████████████████████████████████████████████████████████████████████████| 1/1 [00:01<00:00,  1.66s/it]\n"
     ]
    }
   ],
   "source": [
    "box.add_chain(chain)\n",
    "box.run()"
   ]
  },
  {
   "cell_type": "markdown",
   "id": "643ce215",
   "metadata": {},
   "source": [
    "After completing the unordered area, save the result:"
   ]
  },
  {
   "cell_type": "code",
   "execution_count": 6,
   "id": "720e1dfe",
   "metadata": {},
   "outputs": [],
   "source": [
    "chain.write('output.pdb')"
   ]
  },
  {
   "cell_type": "markdown",
   "id": "9871c343",
   "metadata": {},
   "source": [
    "## Refinement\n",
    "\n",
    "The output of IDRWalker may have some implausible results, but a simple energy minimization can solve this problem.  \n",
    "Details of energy minimization using double precision GROMACS can be found in the `refine`."
   ]
  }
 ],
 "metadata": {
  "kernelspec": {
   "display_name": "Python [conda env:mda]",
   "language": "python",
   "name": "conda-env-mda-py"
  },
  "language_info": {
   "codemirror_mode": {
    "name": "ipython",
    "version": 3
   },
   "file_extension": ".py",
   "mimetype": "text/x-python",
   "name": "python",
   "nbconvert_exporter": "python",
   "pygments_lexer": "ipython3",
   "version": "3.11.0"
  }
 },
 "nbformat": 4,
 "nbformat_minor": 5
}
