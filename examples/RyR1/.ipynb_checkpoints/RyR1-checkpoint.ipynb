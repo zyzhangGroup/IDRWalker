{
 "cells": [
  {
   "cell_type": "markdown",
   "id": "fe7b027a",
   "metadata": {},
   "source": [
    "# Usage of IDRWalker in complexes\n",
    "\n",
    "In this notebook, I will use RyR1 as an example of how to use IDRWalker in complexes."
   ]
  },
  {
   "cell_type": "markdown",
   "id": "442cf625",
   "metadata": {},
   "source": [
    "## Preparing Input Files\n",
    "\n",
    "IDRWalker Designed to work with large protein complexes, in which case it is not convenient to put all the inputs within only one file. Therefore, when using IDRWalker to process complexes, the structure of each chain should be writen to a separate PDB file, and the sequence information need to be handled in the same way.  \n",
    "RyR1 (PDBID: [8seu](https://www.rcsb.org/structure/8SEU)) consists of four chains, the structures of which are stored in each of the following four files `8seuA.pdb` `8seuB.pdb` `8seuC.pdb` `8seuD.pdb`. The sequence of these chains is the same, so only one sequence file `rcsb_pdb_8SEU.fasta` is required."
   ]
  },
  {
   "cell_type": "markdown",
   "id": "d459b6ff",
   "metadata": {},
   "source": [
    "## Loading Input Files\n",
    "\n",
    "Similar to the case of a single chain, just read each chain in turn:"
   ]
  },
  {
   "cell_type": "code",
   "execution_count": 1,
   "id": "653026b7",
   "metadata": {},
   "outputs": [],
   "source": [
    "from IDRWalker import *"
   ]
  },
  {
   "cell_type": "code",
   "execution_count": 2,
   "id": "ced96e89",
   "metadata": {},
   "outputs": [],
   "source": [
    "chainA = Chain('rcsb_pdb_8SEU.fasta', '8seuA.pdb', chainID='A', tail=False)\n",
    "chainB = Chain('rcsb_pdb_8SEU.fasta', '8seuB.pdb', chainID='B', tail=False)\n",
    "chainC = Chain('rcsb_pdb_8SEU.fasta', '8seuC.pdb', chainID='C', tail=False)\n",
    "chainD = Chain('rcsb_pdb_8SEU.fasta', '8seuD.pdb', chainID='D', tail=False)"
   ]
  },
  {
   "cell_type": "markdown",
   "id": "4ac3955c",
   "metadata": {},
   "source": [
    "The sequence of RyR1 has a long tail of unknown structures, the parameter `tail=False` can be used if there is no need to generate structures in these regions."
   ]
  },
  {
   "cell_type": "markdown",
   "id": "86318dc0",
   "metadata": {},
   "source": [
    "## Running IDRWalker"
   ]
  },
  {
   "cell_type": "code",
   "execution_count": 3,
   "id": "5b9b2d3e",
   "metadata": {},
   "outputs": [
    {
     "name": "stderr",
     "output_type": "stream",
     "text": [
      "Processing: 100%|████████████████████████████████████████████████████████████████████████| 4/4 [00:30<00:00,  7.67s/it]\n"
     ]
    }
   ],
   "source": [
    "box = Box(np.array((1000.0, 1000.0, 1000.0)), 1.5)\n",
    "\n",
    "box.add_chain(chainA)\n",
    "box.add_chain(chainB)\n",
    "box.add_chain(chainC)\n",
    "box.add_chain(chainD)\n",
    "\n",
    "box.run()"
   ]
  },
  {
   "cell_type": "code",
   "execution_count": 4,
   "id": "f76d8259",
   "metadata": {},
   "outputs": [],
   "source": [
    "chainA.write('outputA.pdb')\n",
    "chainB.write('outputB.pdb')\n",
    "chainC.write('outputC.pdb')\n",
    "chainD.write('outputD.pdb')"
   ]
  }
 ],
 "metadata": {
  "kernelspec": {
   "display_name": "Python [conda env:mda]",
   "language": "python",
   "name": "conda-env-mda-py"
  },
  "language_info": {
   "codemirror_mode": {
    "name": "ipython",
    "version": 3
   },
   "file_extension": ".py",
   "mimetype": "text/x-python",
   "name": "python",
   "nbconvert_exporter": "python",
   "pygments_lexer": "ipython3",
   "version": "3.11.0"
  }
 },
 "nbformat": 4,
 "nbformat_minor": 5
}
